{
 "cells": [
  {
   "cell_type": "code",
   "execution_count": 22,
   "metadata": {},
   "outputs": [
    {
     "name": "stdout",
     "output_type": "stream",
     "text": [
      "   state  pop  year   hi\n",
      "hi  ohio  1.2     6  NaN\n",
      "2     bi  1.4     2  NaN\n",
      "3     ai  1.7     3  NaN\n",
      "4     ki  1.9     4  NaN\n"
     ]
    },
    {
     "data": {
      "text/plain": [
       "Index(['hi', 2, 3, 4], dtype='object')"
      ]
     },
     "execution_count": 22,
     "metadata": {},
     "output_type": "execute_result"
    }
   ],
   "source": [
    "import pandas as pd\n",
    "data=['ohio','bi','ai','ki']\n",
    "data1={'state':data,\n",
    "      'year':[6,2,3,4],\n",
    "       'pop':[1.2,1.4,1.7,1.9]}\n",
    "data2=pd.DataFrame(data1,index=['hi',2,3,4],columns=['state','pop','year','hi'])\n",
    "print(data2)\n",
    "data2.columns\n",
    "data2.index"
   ]
  },
  {
   "cell_type": "code",
   "execution_count": 18,
   "metadata": {},
   "outputs": [
    {
     "data": {
      "text/html": [
       "<div>\n",
       "<style scoped>\n",
       "    .dataframe tbody tr th:only-of-type {\n",
       "        vertical-align: middle;\n",
       "    }\n",
       "\n",
       "    .dataframe tbody tr th {\n",
       "        vertical-align: top;\n",
       "    }\n",
       "\n",
       "    .dataframe thead th {\n",
       "        text-align: right;\n",
       "    }\n",
       "</style>\n",
       "<table border=\"1\" class=\"dataframe\">\n",
       "  <thead>\n",
       "    <tr style=\"text-align: right;\">\n",
       "      <th></th>\n",
       "      <th>state</th>\n",
       "      <th>pop</th>\n",
       "      <th>year</th>\n",
       "      <th>hi</th>\n",
       "    </tr>\n",
       "  </thead>\n",
       "  <tbody>\n",
       "    <tr>\n",
       "      <td>hi</td>\n",
       "      <td>ohio</td>\n",
       "      <td>1.2</td>\n",
       "      <td>6</td>\n",
       "      <td>NaN</td>\n",
       "    </tr>\n",
       "    <tr>\n",
       "      <td>2</td>\n",
       "      <td>bi</td>\n",
       "      <td>1.4</td>\n",
       "      <td>2</td>\n",
       "      <td>NaN</td>\n",
       "    </tr>\n",
       "    <tr>\n",
       "      <td>3</td>\n",
       "      <td>ai</td>\n",
       "      <td>1.7</td>\n",
       "      <td>3</td>\n",
       "      <td>NaN</td>\n",
       "    </tr>\n",
       "    <tr>\n",
       "      <td>4</td>\n",
       "      <td>ki</td>\n",
       "      <td>1.9</td>\n",
       "      <td>4</td>\n",
       "      <td>NaN</td>\n",
       "    </tr>\n",
       "  </tbody>\n",
       "</table>\n",
       "</div>"
      ],
      "text/plain": [
       "   state  pop  year   hi\n",
       "hi  ohio  1.2     6  NaN\n",
       "2     bi  1.4     2  NaN\n",
       "3     ai  1.7     3  NaN\n",
       "4     ki  1.9     4  NaN"
      ]
     },
     "execution_count": 18,
     "metadata": {},
     "output_type": "execute_result"
    }
   ],
   "source": [
    "data2.head()"
   ]
  },
  {
   "cell_type": "code",
   "execution_count": 29,
   "metadata": {},
   "outputs": [
    {
     "data": {
      "text/plain": [
       "hi    ohio\n",
       "2       bi\n",
       "3       ai\n",
       "4       ki\n",
       "Name: state, dtype: object"
      ]
     },
     "execution_count": 29,
     "metadata": {},
     "output_type": "execute_result"
    }
   ],
   "source": [
    "data1['state']\n",
    "data2[\"state\"]"
   ]
  },
  {
   "cell_type": "code",
   "execution_count": 30,
   "metadata": {},
   "outputs": [
    {
     "data": {
      "text/plain": [
       "hi    ohio\n",
       "2       bi\n",
       "3       ai\n",
       "4       ki\n",
       "Name: state, dtype: object"
      ]
     },
     "execution_count": 30,
     "metadata": {},
     "output_type": "execute_result"
    }
   ],
   "source": [
    "data2.state"
   ]
  },
  {
   "cell_type": "code",
   "execution_count": 61,
   "metadata": {},
   "outputs": [
    {
     "name": "stdout",
     "output_type": "stream",
     "text": [
      "4\n",
      "hi    1.2\n",
      "2     1.4\n",
      "3     1.7\n",
      "4     1.9\n",
      "Name: pop, dtype: float64\n"
     ]
    }
   ],
   "source": [
    "data2.iloc[0]\n",
    "print(len(data2))\n",
    "z=[1,2,3,4]\n",
    "data2['hi']=42\n",
    "#print(data2)\n",
    "print(data2['pop'])"
   ]
  },
  {
   "cell_type": "code",
   "execution_count": 74,
   "metadata": {},
   "outputs": [
    {
     "name": "stdout",
     "output_type": "stream",
     "text": [
      "          b         d         e\n",
      "a -1.122861  2.252759 -0.271866\n",
      "b -2.092891  0.104180 -1.250984\n",
      "c  0.470464  0.241757  0.104526\n",
      "d  2.433683 -2.406598  0.851009\n",
      "b    4.526575\n",
      "d    4.659357\n",
      "e    2.101993\n",
      "dtype: float64 <class 'pandas.core.series.Series'>\n",
      "b   -1.122861\n",
      "d    2.252759\n",
      "e   -0.271866\n",
      "Name: a, dtype: float64\n",
      "-0.2718664559587944\n"
     ]
    }
   ],
   "source": [
    "import numpy as np\n",
    "import pandas as pd\n",
    "frame=pd.DataFrame(np.random.randn(4,3),\n",
    "                  columns=list('bde'),\n",
    "                   index=['a','b','c','d'])\n",
    "print(frame)\n",
    "#print(frame[\"d\"].min())     \\\n",
    "f=lambda x: x.max()-x.min()\n",
    "df=frame.apply(f)\n",
    "print(df, type(df))\n",
    "\n",
    "print(frame.loc['a'][:])\n",
    "print(frame.iloc[0][2])                   \n",
    "                   "
   ]
  },
  {
   "cell_type": "code",
   "execution_count": 77,
   "metadata": {},
   "outputs": [
    {
     "ename": "SyntaxError",
     "evalue": "invalid syntax (<ipython-input-77-aa65fd18367e>, line 5)",
     "output_type": "error",
     "traceback": [
      "\u001b[1;36m  File \u001b[1;32m\"<ipython-input-77-aa65fd18367e>\"\u001b[1;36m, line \u001b[1;32m5\u001b[0m\n\u001b[1;33m    framee=pd.DataFrame(np.random.randn(4,3),\u001b[0m\n\u001b[1;37m         ^\u001b[0m\n\u001b[1;31mSyntaxError\u001b[0m\u001b[1;31m:\u001b[0m invalid syntax\n"
     ]
    }
   ],
   "source": [
    "                   "
   ]
  },
  {
   "cell_type": "code",
   "execution_count": null,
   "metadata": {},
   "outputs": [],
   "source": []
  }
 ],
 "metadata": {
  "kernelspec": {
   "display_name": "Python 3",
   "language": "python",
   "name": "python3"
  },
  "language_info": {
   "codemirror_mode": {
    "name": "ipython",
    "version": 3
   },
   "file_extension": ".py",
   "mimetype": "text/x-python",
   "name": "python",
   "nbconvert_exporter": "python",
   "pygments_lexer": "ipython3",
   "version": "3.7.4"
  }
 },
 "nbformat": 4,
 "nbformat_minor": 2
}
